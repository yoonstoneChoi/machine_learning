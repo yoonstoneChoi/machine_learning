{
 "cells": [
  {
   "cell_type": "code",
   "execution_count": null,
   "source": [],
   "outputs": [],
   "metadata": {}
  },
  {
   "cell_type": "markdown",
   "source": [
    "### 모듈 및 데이터 불러오기"
   ],
   "metadata": {}
  },
  {
   "cell_type": "code",
   "execution_count": 1,
   "source": [
    "import pandas as pd\r\n",
    "import numpy as np \r\n",
    "import matplotlib.pyplot as plt \r\n",
    "import seaborn as sns"
   ],
   "outputs": [
    {
     "output_type": "stream",
     "name": "stderr",
     "text": [
      "C:\\Users\\admin\\Anaconda3\\lib\\importlib\\_bootstrap.py:219: RuntimeWarning: numpy.ufunc size changed, may indicate binary incompatibility. Expected 192 from C header, got 216 from PyObject\n",
      "  return f(*args, **kwds)\n",
      "C:\\Users\\admin\\Anaconda3\\lib\\importlib\\_bootstrap.py:219: RuntimeWarning: numpy.ufunc size changed, may indicate binary incompatibility. Expected 192 from C header, got 216 from PyObject\n",
      "  return f(*args, **kwds)\n",
      "In C:\\Users\\admin\\Anaconda3\\lib\\site-packages\\matplotlib\\mpl-data\\stylelib\\_classic_test.mplstyle: \n",
      "The text.latex.preview rcparam was deprecated in Matplotlib 3.3 and will be removed two minor releases later.\n",
      "In C:\\Users\\admin\\Anaconda3\\lib\\site-packages\\matplotlib\\mpl-data\\stylelib\\_classic_test.mplstyle: \n",
      "The mathtext.fallback_to_cm rcparam was deprecated in Matplotlib 3.3 and will be removed two minor releases later.\n",
      "In C:\\Users\\admin\\Anaconda3\\lib\\site-packages\\matplotlib\\mpl-data\\stylelib\\_classic_test.mplstyle: Support for setting the 'mathtext.fallback_to_cm' rcParam is deprecated since 3.3 and will be removed two minor releases later; use 'mathtext.fallback : 'cm' instead.\n",
      "In C:\\Users\\admin\\Anaconda3\\lib\\site-packages\\matplotlib\\mpl-data\\stylelib\\_classic_test.mplstyle: \n",
      "The validate_bool_maybe_none function was deprecated in Matplotlib 3.3 and will be removed two minor releases later.\n",
      "In C:\\Users\\admin\\Anaconda3\\lib\\site-packages\\matplotlib\\mpl-data\\stylelib\\_classic_test.mplstyle: \n",
      "The savefig.jpeg_quality rcparam was deprecated in Matplotlib 3.3 and will be removed two minor releases later.\n",
      "In C:\\Users\\admin\\Anaconda3\\lib\\site-packages\\matplotlib\\mpl-data\\stylelib\\_classic_test.mplstyle: \n",
      "The keymap.all_axes rcparam was deprecated in Matplotlib 3.3 and will be removed two minor releases later.\n",
      "In C:\\Users\\admin\\Anaconda3\\lib\\site-packages\\matplotlib\\mpl-data\\stylelib\\_classic_test.mplstyle: \n",
      "The animation.avconv_path rcparam was deprecated in Matplotlib 3.3 and will be removed two minor releases later.\n",
      "In C:\\Users\\admin\\Anaconda3\\lib\\site-packages\\matplotlib\\mpl-data\\stylelib\\_classic_test.mplstyle: \n",
      "The animation.avconv_args rcparam was deprecated in Matplotlib 3.3 and will be removed two minor releases later.\n",
      "C:\\Users\\admin\\Anaconda3\\lib\\importlib\\_bootstrap.py:219: RuntimeWarning: numpy.ufunc size changed, may indicate binary incompatibility. Expected 192 from C header, got 216 from PyObject\n",
      "  return f(*args, **kwds)\n",
      "C:\\Users\\admin\\Anaconda3\\lib\\importlib\\_bootstrap.py:219: RuntimeWarning: numpy.ufunc size changed, may indicate binary incompatibility. Expected 192 from C header, got 216 from PyObject\n",
      "  return f(*args, **kwds)\n"
     ]
    }
   ],
   "metadata": {}
  },
  {
   "cell_type": "code",
   "execution_count": 25,
   "source": [
    "data = pd.read_csv('Mall_Customers.csv')"
   ],
   "outputs": [],
   "metadata": {}
  },
  {
   "cell_type": "markdown",
   "source": [
    "### 데이터 특성 확인"
   ],
   "metadata": {}
  },
  {
   "cell_type": "code",
   "execution_count": 5,
   "source": [
    "data.shape"
   ],
   "outputs": [
    {
     "output_type": "execute_result",
     "data": {
      "text/plain": [
       "(200, 5)"
      ]
     },
     "metadata": {},
     "execution_count": 5
    }
   ],
   "metadata": {}
  },
  {
   "cell_type": "code",
   "execution_count": 7,
   "source": [
    "data.head()"
   ],
   "outputs": [
    {
     "output_type": "execute_result",
     "data": {
      "text/plain": [
       "   CustomerID  Gender  Age  Annual Income (k$)  Spending Score (1-100)\n",
       "0           1    Male   19                  15                      39\n",
       "1           2    Male   21                  15                      81\n",
       "2           3  Female   20                  16                       6\n",
       "3           4  Female   23                  16                      77\n",
       "4           5  Female   31                  17                      40"
      ],
      "text/html": [
       "<div>\n",
       "<style scoped>\n",
       "    .dataframe tbody tr th:only-of-type {\n",
       "        vertical-align: middle;\n",
       "    }\n",
       "\n",
       "    .dataframe tbody tr th {\n",
       "        vertical-align: top;\n",
       "    }\n",
       "\n",
       "    .dataframe thead th {\n",
       "        text-align: right;\n",
       "    }\n",
       "</style>\n",
       "<table border=\"1\" class=\"dataframe\">\n",
       "  <thead>\n",
       "    <tr style=\"text-align: right;\">\n",
       "      <th></th>\n",
       "      <th>CustomerID</th>\n",
       "      <th>Gender</th>\n",
       "      <th>Age</th>\n",
       "      <th>Annual Income (k$)</th>\n",
       "      <th>Spending Score (1-100)</th>\n",
       "    </tr>\n",
       "  </thead>\n",
       "  <tbody>\n",
       "    <tr>\n",
       "      <td>0</td>\n",
       "      <td>1</td>\n",
       "      <td>Male</td>\n",
       "      <td>19</td>\n",
       "      <td>15</td>\n",
       "      <td>39</td>\n",
       "    </tr>\n",
       "    <tr>\n",
       "      <td>1</td>\n",
       "      <td>2</td>\n",
       "      <td>Male</td>\n",
       "      <td>21</td>\n",
       "      <td>15</td>\n",
       "      <td>81</td>\n",
       "    </tr>\n",
       "    <tr>\n",
       "      <td>2</td>\n",
       "      <td>3</td>\n",
       "      <td>Female</td>\n",
       "      <td>20</td>\n",
       "      <td>16</td>\n",
       "      <td>6</td>\n",
       "    </tr>\n",
       "    <tr>\n",
       "      <td>3</td>\n",
       "      <td>4</td>\n",
       "      <td>Female</td>\n",
       "      <td>23</td>\n",
       "      <td>16</td>\n",
       "      <td>77</td>\n",
       "    </tr>\n",
       "    <tr>\n",
       "      <td>4</td>\n",
       "      <td>5</td>\n",
       "      <td>Female</td>\n",
       "      <td>31</td>\n",
       "      <td>17</td>\n",
       "      <td>40</td>\n",
       "    </tr>\n",
       "  </tbody>\n",
       "</table>\n",
       "</div>"
      ]
     },
     "metadata": {},
     "execution_count": 7
    }
   ],
   "metadata": {}
  },
  {
   "cell_type": "code",
   "execution_count": 8,
   "source": [
    "data.info()"
   ],
   "outputs": [
    {
     "output_type": "stream",
     "name": "stdout",
     "text": [
      "<class 'pandas.core.frame.DataFrame'>\n",
      "RangeIndex: 200 entries, 0 to 199\n",
      "Data columns (total 5 columns):\n",
      "CustomerID                200 non-null int64\n",
      "Gender                    200 non-null object\n",
      "Age                       200 non-null int64\n",
      "Annual Income (k$)        200 non-null int64\n",
      "Spending Score (1-100)    200 non-null int64\n",
      "dtypes: int64(4), object(1)\n",
      "memory usage: 7.9+ KB\n"
     ]
    }
   ],
   "metadata": {}
  },
  {
   "cell_type": "code",
   "execution_count": 9,
   "source": [
    "data.describe()"
   ],
   "outputs": [
    {
     "output_type": "execute_result",
     "data": {
      "text/plain": [
       "       CustomerID         Age  Annual Income (k$)  Spending Score (1-100)\n",
       "count  200.000000  200.000000          200.000000              200.000000\n",
       "mean   100.500000   38.850000           60.560000               50.200000\n",
       "std     57.879185   13.969007           26.264721               25.823522\n",
       "min      1.000000   18.000000           15.000000                1.000000\n",
       "25%     50.750000   28.750000           41.500000               34.750000\n",
       "50%    100.500000   36.000000           61.500000               50.000000\n",
       "75%    150.250000   49.000000           78.000000               73.000000\n",
       "max    200.000000   70.000000          137.000000               99.000000"
      ],
      "text/html": [
       "<div>\n",
       "<style scoped>\n",
       "    .dataframe tbody tr th:only-of-type {\n",
       "        vertical-align: middle;\n",
       "    }\n",
       "\n",
       "    .dataframe tbody tr th {\n",
       "        vertical-align: top;\n",
       "    }\n",
       "\n",
       "    .dataframe thead th {\n",
       "        text-align: right;\n",
       "    }\n",
       "</style>\n",
       "<table border=\"1\" class=\"dataframe\">\n",
       "  <thead>\n",
       "    <tr style=\"text-align: right;\">\n",
       "      <th></th>\n",
       "      <th>CustomerID</th>\n",
       "      <th>Age</th>\n",
       "      <th>Annual Income (k$)</th>\n",
       "      <th>Spending Score (1-100)</th>\n",
       "    </tr>\n",
       "  </thead>\n",
       "  <tbody>\n",
       "    <tr>\n",
       "      <td>count</td>\n",
       "      <td>200.000000</td>\n",
       "      <td>200.000000</td>\n",
       "      <td>200.000000</td>\n",
       "      <td>200.000000</td>\n",
       "    </tr>\n",
       "    <tr>\n",
       "      <td>mean</td>\n",
       "      <td>100.500000</td>\n",
       "      <td>38.850000</td>\n",
       "      <td>60.560000</td>\n",
       "      <td>50.200000</td>\n",
       "    </tr>\n",
       "    <tr>\n",
       "      <td>std</td>\n",
       "      <td>57.879185</td>\n",
       "      <td>13.969007</td>\n",
       "      <td>26.264721</td>\n",
       "      <td>25.823522</td>\n",
       "    </tr>\n",
       "    <tr>\n",
       "      <td>min</td>\n",
       "      <td>1.000000</td>\n",
       "      <td>18.000000</td>\n",
       "      <td>15.000000</td>\n",
       "      <td>1.000000</td>\n",
       "    </tr>\n",
       "    <tr>\n",
       "      <td>25%</td>\n",
       "      <td>50.750000</td>\n",
       "      <td>28.750000</td>\n",
       "      <td>41.500000</td>\n",
       "      <td>34.750000</td>\n",
       "    </tr>\n",
       "    <tr>\n",
       "      <td>50%</td>\n",
       "      <td>100.500000</td>\n",
       "      <td>36.000000</td>\n",
       "      <td>61.500000</td>\n",
       "      <td>50.000000</td>\n",
       "    </tr>\n",
       "    <tr>\n",
       "      <td>75%</td>\n",
       "      <td>150.250000</td>\n",
       "      <td>49.000000</td>\n",
       "      <td>78.000000</td>\n",
       "      <td>73.000000</td>\n",
       "    </tr>\n",
       "    <tr>\n",
       "      <td>max</td>\n",
       "      <td>200.000000</td>\n",
       "      <td>70.000000</td>\n",
       "      <td>137.000000</td>\n",
       "      <td>99.000000</td>\n",
       "    </tr>\n",
       "  </tbody>\n",
       "</table>\n",
       "</div>"
      ]
     },
     "metadata": {},
     "execution_count": 9
    }
   ],
   "metadata": {}
  },
  {
   "cell_type": "code",
   "execution_count": 26,
   "source": [
    "data = pd.get_dummies(data, columns=['Gender'], drop_first=True)"
   ],
   "outputs": [],
   "metadata": {}
  },
  {
   "cell_type": "code",
   "execution_count": 27,
   "source": [
    "data = data.iloc[:,1:]"
   ],
   "outputs": [],
   "metadata": {}
  },
  {
   "cell_type": "code",
   "execution_count": 28,
   "source": [
    "data.head()"
   ],
   "outputs": [
    {
     "output_type": "execute_result",
     "data": {
      "text/plain": [
       "   Age  Annual Income (k$)  Spending Score (1-100)  Gender_Male\n",
       "0   19                  15                      39            1\n",
       "1   21                  15                      81            1\n",
       "2   20                  16                       6            0\n",
       "3   23                  16                      77            0\n",
       "4   31                  17                      40            0"
      ],
      "text/html": [
       "<div>\n",
       "<style scoped>\n",
       "    .dataframe tbody tr th:only-of-type {\n",
       "        vertical-align: middle;\n",
       "    }\n",
       "\n",
       "    .dataframe tbody tr th {\n",
       "        vertical-align: top;\n",
       "    }\n",
       "\n",
       "    .dataframe thead th {\n",
       "        text-align: right;\n",
       "    }\n",
       "</style>\n",
       "<table border=\"1\" class=\"dataframe\">\n",
       "  <thead>\n",
       "    <tr style=\"text-align: right;\">\n",
       "      <th></th>\n",
       "      <th>Age</th>\n",
       "      <th>Annual Income (k$)</th>\n",
       "      <th>Spending Score (1-100)</th>\n",
       "      <th>Gender_Male</th>\n",
       "    </tr>\n",
       "  </thead>\n",
       "  <tbody>\n",
       "    <tr>\n",
       "      <td>0</td>\n",
       "      <td>19</td>\n",
       "      <td>15</td>\n",
       "      <td>39</td>\n",
       "      <td>1</td>\n",
       "    </tr>\n",
       "    <tr>\n",
       "      <td>1</td>\n",
       "      <td>21</td>\n",
       "      <td>15</td>\n",
       "      <td>81</td>\n",
       "      <td>1</td>\n",
       "    </tr>\n",
       "    <tr>\n",
       "      <td>2</td>\n",
       "      <td>20</td>\n",
       "      <td>16</td>\n",
       "      <td>6</td>\n",
       "      <td>0</td>\n",
       "    </tr>\n",
       "    <tr>\n",
       "      <td>3</td>\n",
       "      <td>23</td>\n",
       "      <td>16</td>\n",
       "      <td>77</td>\n",
       "      <td>0</td>\n",
       "    </tr>\n",
       "    <tr>\n",
       "      <td>4</td>\n",
       "      <td>31</td>\n",
       "      <td>17</td>\n",
       "      <td>40</td>\n",
       "      <td>0</td>\n",
       "    </tr>\n",
       "  </tbody>\n",
       "</table>\n",
       "</div>"
      ]
     },
     "metadata": {},
     "execution_count": 28
    }
   ],
   "metadata": {}
  },
  {
   "cell_type": "markdown",
   "source": [
    "### KMeans Clustering modeling"
   ],
   "metadata": {}
  },
  {
   "cell_type": "code",
   "execution_count": 13,
   "source": [
    "from sklearn.cluster import KMeans"
   ],
   "outputs": [],
   "metadata": {}
  },
  {
   "cell_type": "code",
   "execution_count": 11,
   "source": [
    "model = KMeans(n_clusters=3)"
   ],
   "outputs": [],
   "metadata": {}
  },
  {
   "cell_type": "code",
   "execution_count": 29,
   "source": [
    "model.fit(data)"
   ],
   "outputs": [
    {
     "output_type": "execute_result",
     "data": {
      "text/plain": [
       "KMeans(algorithm='auto', copy_x=True, init='k-means++', max_iter=300,\n",
       "       n_clusters=3, n_init=10, n_jobs=None, precompute_distances='auto',\n",
       "       random_state=None, tol=0.0001, verbose=0)"
      ]
     },
     "metadata": {},
     "execution_count": 29
    }
   ],
   "metadata": {}
  },
  {
   "cell_type": "code",
   "execution_count": 30,
   "source": [
    "model.labels_"
   ],
   "outputs": [
    {
     "output_type": "execute_result",
     "data": {
      "text/plain": [
       "array([1, 1, 1, 1, 1, 1, 1, 1, 1, 1, 1, 1, 1, 1, 1, 1, 1, 1, 1, 1, 1, 1,\n",
       "       1, 1, 1, 1, 1, 1, 1, 1, 1, 1, 1, 1, 1, 1, 1, 1, 1, 1, 1, 1, 1, 1,\n",
       "       1, 1, 1, 1, 1, 1, 1, 1, 1, 1, 1, 1, 1, 1, 1, 1, 1, 1, 1, 1, 1, 1,\n",
       "       1, 1, 1, 1, 1, 1, 1, 1, 1, 1, 1, 1, 1, 1, 1, 1, 1, 1, 1, 1, 1, 1,\n",
       "       1, 1, 1, 1, 1, 1, 1, 1, 1, 1, 1, 1, 1, 1, 1, 1, 1, 1, 1, 1, 1, 1,\n",
       "       1, 1, 1, 1, 1, 1, 1, 1, 1, 1, 1, 1, 1, 2, 0, 2, 0, 2, 0, 2, 0, 2,\n",
       "       0, 2, 0, 2, 0, 2, 0, 2, 0, 2, 0, 2, 0, 2, 0, 2, 0, 2, 0, 2, 0, 2,\n",
       "       0, 2, 0, 2, 0, 2, 0, 2, 0, 2, 0, 2, 0, 2, 0, 2, 0, 2, 0, 2, 0, 2,\n",
       "       0, 2, 0, 2, 0, 2, 0, 2, 0, 2, 0, 2, 0, 2, 0, 2, 0, 2, 0, 2, 0, 2,\n",
       "       0, 2])"
      ]
     },
     "metadata": {},
     "execution_count": 30
    }
   ],
   "metadata": {}
  },
  {
   "cell_type": "code",
   "execution_count": 31,
   "source": [
    "result_df = data.copy()"
   ],
   "outputs": [],
   "metadata": {}
  },
  {
   "cell_type": "code",
   "execution_count": 32,
   "source": [
    "result_df['label'] = model.labels_"
   ],
   "outputs": [],
   "metadata": {}
  },
  {
   "cell_type": "code",
   "execution_count": 33,
   "source": [
    "result_df.head(20)"
   ],
   "outputs": [
    {
     "output_type": "execute_result",
     "data": {
      "text/plain": [
       "    Age  Annual Income (k$)  Spending Score (1-100)  Gender_Male  label\n",
       "0    19                  15                      39            1      1\n",
       "1    21                  15                      81            1      1\n",
       "2    20                  16                       6            0      1\n",
       "3    23                  16                      77            0      1\n",
       "4    31                  17                      40            0      1\n",
       "5    22                  17                      76            0      1\n",
       "6    35                  18                       6            0      1\n",
       "7    23                  18                      94            0      1\n",
       "8    64                  19                       3            1      1\n",
       "9    30                  19                      72            0      1\n",
       "10   67                  19                      14            1      1\n",
       "11   35                  19                      99            0      1\n",
       "12   58                  20                      15            0      1\n",
       "13   24                  20                      77            0      1\n",
       "14   37                  20                      13            1      1\n",
       "15   22                  20                      79            1      1\n",
       "16   35                  21                      35            0      1\n",
       "17   20                  21                      66            1      1\n",
       "18   52                  23                      29            1      1\n",
       "19   35                  23                      98            0      1"
      ],
      "text/html": [
       "<div>\n",
       "<style scoped>\n",
       "    .dataframe tbody tr th:only-of-type {\n",
       "        vertical-align: middle;\n",
       "    }\n",
       "\n",
       "    .dataframe tbody tr th {\n",
       "        vertical-align: top;\n",
       "    }\n",
       "\n",
       "    .dataframe thead th {\n",
       "        text-align: right;\n",
       "    }\n",
       "</style>\n",
       "<table border=\"1\" class=\"dataframe\">\n",
       "  <thead>\n",
       "    <tr style=\"text-align: right;\">\n",
       "      <th></th>\n",
       "      <th>Age</th>\n",
       "      <th>Annual Income (k$)</th>\n",
       "      <th>Spending Score (1-100)</th>\n",
       "      <th>Gender_Male</th>\n",
       "      <th>label</th>\n",
       "    </tr>\n",
       "  </thead>\n",
       "  <tbody>\n",
       "    <tr>\n",
       "      <td>0</td>\n",
       "      <td>19</td>\n",
       "      <td>15</td>\n",
       "      <td>39</td>\n",
       "      <td>1</td>\n",
       "      <td>1</td>\n",
       "    </tr>\n",
       "    <tr>\n",
       "      <td>1</td>\n",
       "      <td>21</td>\n",
       "      <td>15</td>\n",
       "      <td>81</td>\n",
       "      <td>1</td>\n",
       "      <td>1</td>\n",
       "    </tr>\n",
       "    <tr>\n",
       "      <td>2</td>\n",
       "      <td>20</td>\n",
       "      <td>16</td>\n",
       "      <td>6</td>\n",
       "      <td>0</td>\n",
       "      <td>1</td>\n",
       "    </tr>\n",
       "    <tr>\n",
       "      <td>3</td>\n",
       "      <td>23</td>\n",
       "      <td>16</td>\n",
       "      <td>77</td>\n",
       "      <td>0</td>\n",
       "      <td>1</td>\n",
       "    </tr>\n",
       "    <tr>\n",
       "      <td>4</td>\n",
       "      <td>31</td>\n",
       "      <td>17</td>\n",
       "      <td>40</td>\n",
       "      <td>0</td>\n",
       "      <td>1</td>\n",
       "    </tr>\n",
       "    <tr>\n",
       "      <td>5</td>\n",
       "      <td>22</td>\n",
       "      <td>17</td>\n",
       "      <td>76</td>\n",
       "      <td>0</td>\n",
       "      <td>1</td>\n",
       "    </tr>\n",
       "    <tr>\n",
       "      <td>6</td>\n",
       "      <td>35</td>\n",
       "      <td>18</td>\n",
       "      <td>6</td>\n",
       "      <td>0</td>\n",
       "      <td>1</td>\n",
       "    </tr>\n",
       "    <tr>\n",
       "      <td>7</td>\n",
       "      <td>23</td>\n",
       "      <td>18</td>\n",
       "      <td>94</td>\n",
       "      <td>0</td>\n",
       "      <td>1</td>\n",
       "    </tr>\n",
       "    <tr>\n",
       "      <td>8</td>\n",
       "      <td>64</td>\n",
       "      <td>19</td>\n",
       "      <td>3</td>\n",
       "      <td>1</td>\n",
       "      <td>1</td>\n",
       "    </tr>\n",
       "    <tr>\n",
       "      <td>9</td>\n",
       "      <td>30</td>\n",
       "      <td>19</td>\n",
       "      <td>72</td>\n",
       "      <td>0</td>\n",
       "      <td>1</td>\n",
       "    </tr>\n",
       "    <tr>\n",
       "      <td>10</td>\n",
       "      <td>67</td>\n",
       "      <td>19</td>\n",
       "      <td>14</td>\n",
       "      <td>1</td>\n",
       "      <td>1</td>\n",
       "    </tr>\n",
       "    <tr>\n",
       "      <td>11</td>\n",
       "      <td>35</td>\n",
       "      <td>19</td>\n",
       "      <td>99</td>\n",
       "      <td>0</td>\n",
       "      <td>1</td>\n",
       "    </tr>\n",
       "    <tr>\n",
       "      <td>12</td>\n",
       "      <td>58</td>\n",
       "      <td>20</td>\n",
       "      <td>15</td>\n",
       "      <td>0</td>\n",
       "      <td>1</td>\n",
       "    </tr>\n",
       "    <tr>\n",
       "      <td>13</td>\n",
       "      <td>24</td>\n",
       "      <td>20</td>\n",
       "      <td>77</td>\n",
       "      <td>0</td>\n",
       "      <td>1</td>\n",
       "    </tr>\n",
       "    <tr>\n",
       "      <td>14</td>\n",
       "      <td>37</td>\n",
       "      <td>20</td>\n",
       "      <td>13</td>\n",
       "      <td>1</td>\n",
       "      <td>1</td>\n",
       "    </tr>\n",
       "    <tr>\n",
       "      <td>15</td>\n",
       "      <td>22</td>\n",
       "      <td>20</td>\n",
       "      <td>79</td>\n",
       "      <td>1</td>\n",
       "      <td>1</td>\n",
       "    </tr>\n",
       "    <tr>\n",
       "      <td>16</td>\n",
       "      <td>35</td>\n",
       "      <td>21</td>\n",
       "      <td>35</td>\n",
       "      <td>0</td>\n",
       "      <td>1</td>\n",
       "    </tr>\n",
       "    <tr>\n",
       "      <td>17</td>\n",
       "      <td>20</td>\n",
       "      <td>21</td>\n",
       "      <td>66</td>\n",
       "      <td>1</td>\n",
       "      <td>1</td>\n",
       "    </tr>\n",
       "    <tr>\n",
       "      <td>18</td>\n",
       "      <td>52</td>\n",
       "      <td>23</td>\n",
       "      <td>29</td>\n",
       "      <td>1</td>\n",
       "      <td>1</td>\n",
       "    </tr>\n",
       "    <tr>\n",
       "      <td>19</td>\n",
       "      <td>35</td>\n",
       "      <td>23</td>\n",
       "      <td>98</td>\n",
       "      <td>0</td>\n",
       "      <td>1</td>\n",
       "    </tr>\n",
       "  </tbody>\n",
       "</table>\n",
       "</div>"
      ]
     },
     "metadata": {},
     "execution_count": 33
    }
   ],
   "metadata": {}
  },
  {
   "cell_type": "markdown",
   "source": [
    "### groupby를 통한, 레이블 별 통계 정보 확인"
   ],
   "metadata": {}
  },
  {
   "cell_type": "code",
   "execution_count": 34,
   "source": [
    "result_df.groupby('label').mean()"
   ],
   "outputs": [
    {
     "output_type": "execute_result",
     "data": {
      "text/plain": [
       "             Age  Annual Income (k$)  Spending Score (1-100)  Gender_Male\n",
       "label                                                                    \n",
       "0      40.394737           87.000000               18.631579     0.526316\n",
       "1      40.325203           44.154472               49.829268     0.406504\n",
       "2      32.692308           86.538462               82.128205     0.461538"
      ],
      "text/html": [
       "<div>\n",
       "<style scoped>\n",
       "    .dataframe tbody tr th:only-of-type {\n",
       "        vertical-align: middle;\n",
       "    }\n",
       "\n",
       "    .dataframe tbody tr th {\n",
       "        vertical-align: top;\n",
       "    }\n",
       "\n",
       "    .dataframe thead th {\n",
       "        text-align: right;\n",
       "    }\n",
       "</style>\n",
       "<table border=\"1\" class=\"dataframe\">\n",
       "  <thead>\n",
       "    <tr style=\"text-align: right;\">\n",
       "      <th></th>\n",
       "      <th>Age</th>\n",
       "      <th>Annual Income (k$)</th>\n",
       "      <th>Spending Score (1-100)</th>\n",
       "      <th>Gender_Male</th>\n",
       "    </tr>\n",
       "    <tr>\n",
       "      <th>label</th>\n",
       "      <th></th>\n",
       "      <th></th>\n",
       "      <th></th>\n",
       "      <th></th>\n",
       "    </tr>\n",
       "  </thead>\n",
       "  <tbody>\n",
       "    <tr>\n",
       "      <td>0</td>\n",
       "      <td>40.394737</td>\n",
       "      <td>87.000000</td>\n",
       "      <td>18.631579</td>\n",
       "      <td>0.526316</td>\n",
       "    </tr>\n",
       "    <tr>\n",
       "      <td>1</td>\n",
       "      <td>40.325203</td>\n",
       "      <td>44.154472</td>\n",
       "      <td>49.829268</td>\n",
       "      <td>0.406504</td>\n",
       "    </tr>\n",
       "    <tr>\n",
       "      <td>2</td>\n",
       "      <td>32.692308</td>\n",
       "      <td>86.538462</td>\n",
       "      <td>82.128205</td>\n",
       "      <td>0.461538</td>\n",
       "    </tr>\n",
       "  </tbody>\n",
       "</table>\n",
       "</div>"
      ]
     },
     "metadata": {},
     "execution_count": 34
    }
   ],
   "metadata": {}
  },
  {
   "cell_type": "markdown",
   "source": [
    "### cluster 별, 관측치 갯수 확인"
   ],
   "metadata": {}
  },
  {
   "cell_type": "code",
   "execution_count": 35,
   "source": [
    "result_df['label'].value_counts()"
   ],
   "outputs": [
    {
     "output_type": "execute_result",
     "data": {
      "text/plain": [
       "1    123\n",
       "2     39\n",
       "0     38\n",
       "Name: label, dtype: int64"
      ]
     },
     "metadata": {},
     "execution_count": 35
    }
   ],
   "metadata": {}
  },
  {
   "cell_type": "markdown",
   "source": [
    "### 관측치가 적정하게 나눠졌는지, elbow method 활용"
   ],
   "metadata": {}
  },
  {
   "cell_type": "code",
   "execution_count": 36,
   "source": [
    "distance = []\r\n",
    "for i in range(2, 11):\r\n",
    "    model = KMeans(n_clusters=i)\r\n",
    "    model.fit(data)\r\n",
    "    distance.append(model.inertia_)\r\n",
    "    \r\n",
    "    "
   ],
   "outputs": [],
   "metadata": {}
  },
  {
   "cell_type": "code",
   "execution_count": 37,
   "source": [
    "sns.lineplot(x=list(range(2,11)), y = distance) ## 엘보가 완만하기 때문에 명확하게 클러스터 수를 정하기 애매한 상황"
   ],
   "outputs": [
    {
     "output_type": "execute_result",
     "data": {
      "text/plain": [
       "<AxesSubplot:>"
      ]
     },
     "metadata": {},
     "execution_count": 37
    },
    {
     "output_type": "display_data",
     "data": {
      "text/plain": [
       "<Figure size 432x288 with 1 Axes>"
      ],
      "image/png": "[encoded data removed]"
     },
     "metadata": {
      "needs_background": "light"
     }
    }
   ],
   "metadata": {}
  },
  {
   "cell_type": "markdown",
   "source": [
    "### silhoutte score(엘보 메써드로 확인이 어려운 경우)"
   ],
   "metadata": {}
  },
  {
   "cell_type": "code",
   "execution_count": 38,
   "source": [
    "from sklearn.metrics import silhouette_score"
   ],
   "outputs": [],
   "metadata": {}
  },
  {
   "cell_type": "code",
   "execution_count": 39,
   "source": [
    "silhouette_score(data, model.labels_)"
   ],
   "outputs": [
    {
     "output_type": "execute_result",
     "data": {
      "text/plain": [
       "0.3772061632352579"
      ]
     },
     "metadata": {},
     "execution_count": 39
    }
   ],
   "metadata": {}
  },
  {
   "cell_type": "code",
   "execution_count": 42,
   "source": [
    "sil = []\r\n",
    "for i in range(2, 11):\r\n",
    "    model = KMeans(n_clusters=i)\r\n",
    "    model.fit(data)\r\n",
    "    sil.append(silhouette_score(data, model.labels_))"
   ],
   "outputs": [],
   "metadata": {}
  },
  {
   "cell_type": "code",
   "execution_count": 43,
   "source": [
    "sns.lineplot(x=list(range(2,11)), y = sil) ## 높은 값을 선정하면 된다. "
   ],
   "outputs": [
    {
     "output_type": "execute_result",
     "data": {
      "text/plain": [
       "<AxesSubplot:>"
      ]
     },
     "metadata": {},
     "execution_count": 43
    },
    {
     "output_type": "display_data",
     "data": {
      "text/plain": [
       "<Figure size 432x288 with 1 Axes>"
      ],
      "image/png": "[encoded data removed]"
     },
     "metadata": {
      "needs_background": "light"
     }
    }
   ],
   "metadata": {}
  },
  {
   "cell_type": "code",
   "execution_count": 44,
   "source": [
    "model = KMeans(n_clusters=6)\r\n",
    "model.fit(data)\r\n",
    "data['label'] = model.labels_"
   ],
   "outputs": [],
   "metadata": {}
  },
  {
   "cell_type": "code",
   "execution_count": 45,
   "source": [
    "data.groupby('label').mean()"
   ],
   "outputs": [
    {
     "output_type": "execute_result",
     "data": {
      "text/plain": [
       "             Age  Annual Income (k$)  Spending Score (1-100)  Gender_Male\n",
       "label                                                                    \n",
       "0      25.272727           25.727273               79.363636     0.409091\n",
       "1      56.155556           53.377778               49.088889     0.444444\n",
       "2      27.000000           56.657895               49.131579     0.342105\n",
       "3      44.142857           25.142857               19.523810     0.380952\n",
       "4      41.685714           88.228571               17.285714     0.571429\n",
       "5      32.692308           86.538462               82.128205     0.461538"
      ],
      "text/html": [
       "<div>\n",
       "<style scoped>\n",
       "    .dataframe tbody tr th:only-of-type {\n",
       "        vertical-align: middle;\n",
       "    }\n",
       "\n",
       "    .dataframe tbody tr th {\n",
       "        vertical-align: top;\n",
       "    }\n",
       "\n",
       "    .dataframe thead th {\n",
       "        text-align: right;\n",
       "    }\n",
       "</style>\n",
       "<table border=\"1\" class=\"dataframe\">\n",
       "  <thead>\n",
       "    <tr style=\"text-align: right;\">\n",
       "      <th></th>\n",
       "      <th>Age</th>\n",
       "      <th>Annual Income (k$)</th>\n",
       "      <th>Spending Score (1-100)</th>\n",
       "      <th>Gender_Male</th>\n",
       "    </tr>\n",
       "    <tr>\n",
       "      <th>label</th>\n",
       "      <th></th>\n",
       "      <th></th>\n",
       "      <th></th>\n",
       "      <th></th>\n",
       "    </tr>\n",
       "  </thead>\n",
       "  <tbody>\n",
       "    <tr>\n",
       "      <td>0</td>\n",
       "      <td>25.272727</td>\n",
       "      <td>25.727273</td>\n",
       "      <td>79.363636</td>\n",
       "      <td>0.409091</td>\n",
       "    </tr>\n",
       "    <tr>\n",
       "      <td>1</td>\n",
       "      <td>56.155556</td>\n",
       "      <td>53.377778</td>\n",
       "      <td>49.088889</td>\n",
       "      <td>0.444444</td>\n",
       "    </tr>\n",
       "    <tr>\n",
       "      <td>2</td>\n",
       "      <td>27.000000</td>\n",
       "      <td>56.657895</td>\n",
       "      <td>49.131579</td>\n",
       "      <td>0.342105</td>\n",
       "    </tr>\n",
       "    <tr>\n",
       "      <td>3</td>\n",
       "      <td>44.142857</td>\n",
       "      <td>25.142857</td>\n",
       "      <td>19.523810</td>\n",
       "      <td>0.380952</td>\n",
       "    </tr>\n",
       "    <tr>\n",
       "      <td>4</td>\n",
       "      <td>41.685714</td>\n",
       "      <td>88.228571</td>\n",
       "      <td>17.285714</td>\n",
       "      <td>0.571429</td>\n",
       "    </tr>\n",
       "    <tr>\n",
       "      <td>5</td>\n",
       "      <td>32.692308</td>\n",
       "      <td>86.538462</td>\n",
       "      <td>82.128205</td>\n",
       "      <td>0.461538</td>\n",
       "    </tr>\n",
       "  </tbody>\n",
       "</table>\n",
       "</div>"
      ]
     },
     "metadata": {},
     "execution_count": 45
    }
   ],
   "metadata": {}
  },
  {
   "cell_type": "code",
   "execution_count": 46,
   "source": [
    "sns.boxplot(x = 'label', y = 'Age', data = data)"
   ],
   "outputs": [
    {
     "output_type": "execute_result",
     "data": {
      "text/plain": [
       "<AxesSubplot:xlabel='label', ylabel='Age'>"
      ]
     },
     "metadata": {},
     "execution_count": 46
    },
    {
     "output_type": "display_data",
     "data": {
      "text/plain": [
       "<Figure size 432x288 with 1 Axes>"
      ],
      "image/png": "[encoded data removed]"
     },
     "metadata": {
      "needs_background": "light"
     }
    }
   ],
   "metadata": {}
  },
  {
   "cell_type": "code",
   "execution_count": 49,
   "source": [
    "sns.boxplot(x = 'label', y = 'Annual Income (k$)', data = data)"
   ],
   "outputs": [
    {
     "output_type": "execute_result",
     "data": {
      "text/plain": [
       "<AxesSubplot:xlabel='label', ylabel='Annual Income (k$)'>"
      ]
     },
     "metadata": {},
     "execution_count": 49
    },
    {
     "output_type": "display_data",
     "data": {
      "text/plain": [
       "<Figure size 432x288 with 1 Axes>"
      ],
      "image/png": "[encoded data removed]"
     },
     "metadata": {
      "needs_background": "light"
     }
    }
   ],
   "metadata": {}
  },
  {
   "cell_type": "markdown",
   "source": [
    "# PCA를 활용한 변수를 줄이고 scatter plot 그리기"
   ],
   "metadata": {}
  },
  {
   "cell_type": "code",
   "execution_count": 50,
   "source": [
    "data.drop('label', axis = 1, inplace = True)"
   ],
   "outputs": [],
   "metadata": {}
  },
  {
   "cell_type": "code",
   "execution_count": 51,
   "source": [
    "from sklearn.decomposition import PCA"
   ],
   "outputs": [],
   "metadata": {}
  },
  {
   "cell_type": "code",
   "execution_count": 52,
   "source": [
    "pca = PCA(n_components=2) ## 2개 차원으로 줄이겠다. \r\n",
    "pca.fit(data)\r\n",
    "pca_df = pca.transform(data)"
   ],
   "outputs": [],
   "metadata": {}
  },
  {
   "cell_type": "code",
   "execution_count": 53,
   "source": [
    "pca_df"
   ],
   "outputs": [
    {
     "output_type": "execute_result",
     "data": {
      "text/plain": [
       "array([[-3.18699448e+01, -3.30012521e+01],\n",
       "       [ 7.64494048e-01, -5.68429006e+01],\n",
       "       [-5.74082757e+01, -1.31249607e+01],\n",
       "       [-2.16854252e+00, -5.34785900e+01],\n",
       "       [-3.21740846e+01, -3.03884119e+01],\n",
       "       [-2.17695183e+00, -5.22272685e+01],\n",
       "       [-5.90656895e+01, -9.54376302e+00],\n",
       "       [ 1.23708622e+01, -6.16180208e+01],\n",
       "       [-6.63157690e+01, -3.21423160e+00],\n",
       "       [-5.65556212e+00, -4.72672225e+01],\n",
       "       [-5.82365979e+01, -9.13418751e+00],\n",
       "       [ 1.46218043e+01, -6.21075685e+01],\n",
       "       [-5.51608374e+01, -1.00799251e+01],\n",
       "       [-3.02878330e-03, -5.01140754e+01],\n",
       "       [-5.27646657e+01, -1.16807468e+01],\n",
       "       [ 1.94661180e+00, -5.15222086e+01],\n",
       "       [-3.45055496e+01, -2.37615402e+01],\n",
       "       [-7.30493262e+00, -4.35151138e+01],\n",
       "       [-4.12573070e+01, -1.64734737e+01],\n",
       "       [ 1.61902860e+01, -5.83001207e+01],\n",
       "       [-3.27400141e+01, -2.13347966e+01],\n",
       "       [-9.81885245e-01, -4.44524038e+01],\n",
       "       [-5.78100898e+01, -1.87057486e+00],\n",
       "       [-1.52712624e+00, -4.28582471e+01],\n",
       "       [-5.04819556e+01, -3.56276971e+00],\n",
       "       [ 7.69078091e+00, -4.58600560e+01],\n",
       "       [-3.46329913e+01, -1.50715244e+01],\n",
       "       [-9.94927953e+00, -3.30225018e+01],\n",
       "       [-3.38854915e+01, -1.43440485e+01],\n",
       "       [ 1.33436470e+01, -4.87084876e+01],\n",
       "       [-5.82990002e+01,  4.58029961e+00],\n",
       "       [ 3.30609318e+00, -4.01274983e+01],\n",
       "       [-5.52102909e+01,  6.08873470e+00],\n",
       "       [ 2.05727386e+01, -4.89976354e+01],\n",
       "       [-4.65939553e+01, -1.75635193e-01],\n",
       "       [ 1.13600364e+01, -4.22934898e+01],\n",
       "       [-4.23244634e+01, -2.00566039e+00],\n",
       "       [ 3.95978859e+00, -3.57152924e+01],\n",
       "       [-3.23506471e+01, -5.53131490e+00],\n",
       "       [ 9.18744850e+00, -3.57475306e+01],\n",
       "       [-3.01682815e+01, -6.09009687e+00],\n",
       "       [ 2.23819886e+01, -4.41699255e+01],\n",
       "       [-2.55813682e+01, -8.08036828e+00],\n",
       "       [-2.71818732e+00, -2.46556548e+01],\n",
       "       [-3.20580877e+01, -3.35982914e+00],\n",
       "       [ 1.74869118e+00, -2.78679628e+01],\n",
       "       [-1.04361893e+01, -1.79156325e+01],\n",
       "       [-1.23777865e+01, -1.63365883e+01],\n",
       "       [-1.66857879e+01, -1.32051927e+01],\n",
       "       [-1.70637425e+01, -1.29432699e+01],\n",
       "       [-1.14279946e+01, -1.47081336e+01],\n",
       "       [-2.11661573e+00, -2.13930938e+01],\n",
       "       [-5.86576186e+00, -1.74048397e+01],\n",
       "       [-6.44140255e+00, -1.71797090e+01],\n",
       "       [-1.65304147e+01, -9.75152197e+00],\n",
       "       [-1.91078530e+01, -7.84724924e+00],\n",
       "       [-1.22007224e+01, -1.16816450e+01],\n",
       "       [-1.87466838e+01, -7.02718282e+00],\n",
       "       [-5.70201253e+00, -1.37818367e+01],\n",
       "       [-1.45458017e+01, -7.50578867e+00],\n",
       "       [-9.89832195e+00, -1.10183904e+01],\n",
       "       [-1.04648946e+00, -1.71235274e+01],\n",
       "       [-1.18864721e+01, -8.30888676e+00],\n",
       "       [-3.92770171e+00, -1.40286469e+01],\n",
       "       [-1.13282822e+01, -7.44887080e+00],\n",
       "       [ 3.46377080e+00, -1.79332904e+01],\n",
       "       [-8.33441304e+00, -9.49578304e+00],\n",
       "       [-1.46308641e+01, -5.07395882e+00],\n",
       "       [ 3.27479351e+00, -1.78023290e+01],\n",
       "       [-8.61369094e+00, -9.21467482e+00],\n",
       "       [-8.91846305e+00, -8.01933089e+00],\n",
       "       [-1.47897744e+01, -3.57239266e+00],\n",
       "       [-1.11557908e+01, -5.07876799e+00],\n",
       "       [-5.65372529e+00, -9.09602989e+00],\n",
       "       [-1.01846740e+01, -8.26808341e-01],\n",
       "       [ 1.55364218e+00, -9.16579658e+00],\n",
       "       [-2.82260299e+00, -6.10521405e+00],\n",
       "       [-5.80809610e+00, -3.88896958e+00],\n",
       "       [ 5.48888047e-01, -8.41247039e+00],\n",
       "       [-1.22246152e+01,  7.31471686e-01],\n",
       "       [-6.66268195e+00, -3.38430938e+00],\n",
       "       [ 7.19240500e-02, -8.16815429e+00],\n",
       "       [-1.64125485e+01,  3.66425023e+00],\n",
       "       [-1.00856646e+01, -8.09201640e-01],\n",
       "       [ 4.85688946e+00, -1.15438660e+01],\n",
       "       [-8.89193316e+00, -1.69348923e+00],\n",
       "       [ 9.83539194e-01, -5.23990787e+00],\n",
       "       [ 4.86176170e+00, -7.83995054e+00],\n",
       "       [ 7.11270380e+00, -8.32949817e+00],\n",
       "       [-6.91506399e+00,  1.80040810e+00],\n",
       "       [-2.65394818e+00, -1.98949328e-01],\n",
       "       [-4.20954748e+00,  1.28908296e+00],\n",
       "       [-3.00216853e+00,  1.43515694e+00],\n",
       "       [-8.56410176e+00,  5.55093801e+00],\n",
       "       [-5.48026470e+00,  3.35545766e+00],\n",
       "       [ 3.89131456e+00, -3.42960043e+00],\n",
       "       [-4.38487724e+00,  2.45040594e+00],\n",
       "       [ 1.75269668e+00, -1.89050582e+00],\n",
       "       [-7.91561133e+00,  6.26080715e+00],\n",
       "       [ 2.87781838e+00, -1.42337407e+00],\n",
       "       [-3.38823294e+00,  4.36747619e+00],\n",
       "       [-2.79957694e+00,  3.75521081e+00],\n",
       "       [ 2.44460212e+00, -1.98745323e-01],\n",
       "       [ 7.04863359e+00, -3.27258468e+00],\n",
       "       [ 3.48816526e+00, -8.34366932e-01],\n",
       "       [-2.22426899e+00,  3.53165883e+00],\n",
       "       [-3.85154940e+00,  5.64215388e+00],\n",
       "       [-4.72819210e+00,  6.36777396e+00],\n",
       "       [-9.73190228e+00,  9.92291729e+00],\n",
       "       [-5.42390087e+00,  6.79152170e+00],\n",
       "       [-2.09088611e+00,  4.36498207e+00],\n",
       "       [ 8.17442075e+00, -2.80861035e+00],\n",
       "       [-4.25963743e+00,  7.37477932e+00],\n",
       "       [ 2.47463584e+00,  2.59251312e+00],\n",
       "       [ 4.82458735e+00,  2.12057220e+00],\n",
       "       [ 6.20762879e+00,  1.10374449e+00],\n",
       "       [-7.60943758e+00,  1.08833082e+01],\n",
       "       [ 7.61239435e+00, -1.32464390e-01],\n",
       "       [-4.16446458e+00,  1.09285479e+01],\n",
       "       [ 7.02864384e+00,  2.76306274e+00],\n",
       "       [ 1.05887794e+01,  3.26423711e-01],\n",
       "       [-4.06578789e+00,  1.09477334e+01],\n",
       "       [ 1.08816716e+01,  2.49633076e+00],\n",
       "       [ 3.70086253e+01, -1.65715723e+01],\n",
       "       [-8.11136329e+00,  1.77213173e+01],\n",
       "       [ 2.81052680e+01, -8.77793015e+00],\n",
       "       [-6.58656288e+00,  1.77071451e+01],\n",
       "       [ 4.11409310e+01, -1.71194125e+01],\n",
       "       [-2.84744243e+01,  3.35759969e+01],\n",
       "       [ 2.57986982e+01, -5.90344419e+00],\n",
       "       [-2.77787156e+01,  3.31522492e+01],\n",
       "       [ 2.56097209e+01, -5.77248278e+00],\n",
       "       [-3.38202552e+00,  1.67305440e+01],\n",
       "       [ 2.45664573e+01, -3.71778619e+00],\n",
       "       [-2.46431207e+01,  3.35286461e+01],\n",
       "       [ 3.88951938e+01, -1.29275282e+01],\n",
       "       [-2.76062242e+01,  3.55223520e+01],\n",
       "       [ 2.65377888e+01, -3.92464688e+00],\n",
       "       [-1.99354738e+01,  3.13366002e+01],\n",
       "       [ 2.57738030e+01, -2.15105852e+00],\n",
       "       [-3.04577022e+01,  3.99894160e+01],\n",
       "       [ 4.34352216e+01, -1.37857614e+01],\n",
       "       [ 3.12158982e+00,  1.69136141e+01],\n",
       "       [ 3.93081209e+01, -9.53558446e+00],\n",
       "       [-1.77314505e+01,  3.33997445e+01],\n",
       "       [ 4.85124137e+01, -1.49884086e+01],\n",
       "       [-3.21370344e+00,  2.26383874e+01],\n",
       "       [ 2.96786219e+01, -1.26656692e+00],\n",
       "       [-1.09831970e+01,  2.96462611e+01],\n",
       "       [ 4.24651072e+01, -9.37699000e+00],\n",
       "       [-1.66143722e+01,  3.36959653e+01],\n",
       "       [ 3.99482020e+01, -7.57439386e+00],\n",
       "       [-1.44449887e+01,  3.21036643e+01],\n",
       "       [ 3.07053996e+01, -8.20199299e-01],\n",
       "       [-1.81559580e+01,  3.47921267e+01],\n",
       "       [ 4.30022716e+01, -9.72140398e+00],\n",
       "       [-2.80566583e+01,  4.20925098e+01],\n",
       "       [ 3.37892367e+01, -3.01567965e+00],\n",
       "       [-2.74897264e+01,  4.16996255e+01],\n",
       "       [ 2.98591898e+01, -1.46206864e-01],\n",
       "       [-4.33395289e+00,  2.58751711e+01],\n",
       "       [ 3.84968836e+01, -5.20772553e+00],\n",
       "       [-1.97451613e+01,  3.98647912e+01],\n",
       "       [ 4.71562681e+01, -9.06797167e+00],\n",
       "       [-6.74276964e+00,  3.51063622e+01],\n",
       "       [ 3.44177041e+01,  5.15049060e+00],\n",
       "       [-9.35838475e+00,  3.83104267e+01],\n",
       "       [ 5.12934461e+01, -5.91189643e+00],\n",
       "       [-2.13349996e+00,  3.43142059e+01],\n",
       "       [ 2.69184137e+01,  1.31317350e+01],\n",
       "       [-1.38938730e+01,  4.28741541e+01],\n",
       "       [ 3.71064352e+01,  5.72115470e+00],\n",
       "       [-1.54959919e+01,  4.40719921e+01],\n",
       "       [ 4.89567761e+01, -2.98736153e+00],\n",
       "       [-1.55726450e+01,  4.52525005e+01],\n",
       "       [ 4.59635392e+01,  4.77046978e-01],\n",
       "       [-1.51348227e+01,  4.48920585e+01],\n",
       "       [ 3.31679791e+01,  9.84194894e+00],\n",
       "       [-1.31666956e+01,  4.96388560e+01],\n",
       "       [ 5.11054712e+01,  2.87979602e+00],\n",
       "       [ 7.49379714e+00,  3.96595776e+01],\n",
       "       [ 5.08831894e+01,  8.01446456e+00],\n",
       "       [-6.98086768e+00,  5.14044048e+01],\n",
       "       [ 5.36107627e+01,  7.28217954e+00],\n",
       "       [ 1.34171991e+01,  3.77829380e+01],\n",
       "       [ 6.10841598e+01,  3.05805695e+00],\n",
       "       [ 3.47599286e-01,  4.97106312e+01],\n",
       "       [ 3.98450882e+01,  2.10558529e+01],\n",
       "       [-1.52051598e+00,  5.36421714e+01],\n",
       "       [ 5.28730074e+01,  1.39625346e+01],\n",
       "       [ 4.51838126e+00,  4.92820743e+01],\n",
       "       [ 4.10527667e+01,  2.26210019e+01],\n",
       "       [-1.19688712e+00,  6.58449930e+01],\n",
       "       [ 6.30973366e+01,  1.88649731e+01],\n",
       "       [ 6.56619775e+00,  6.87444357e+01],\n",
       "       [ 5.83525153e+01,  3.10175417e+01],\n",
       "       [ 1.99080013e+01,  6.64461080e+01],\n",
       "       [ 5.85208042e+01,  3.83460389e+01],\n",
       "       [ 2.09791300e+01,  7.93764054e+01],\n",
       "       [ 7.24476934e+01,  4.18113364e+01]])"
      ]
     },
     "metadata": {},
     "execution_count": 53
    }
   ],
   "metadata": {}
  },
  {
   "cell_type": "code",
   "execution_count": 54,
   "source": [
    "pca_df = pd.DataFrame(pca_df, columns=['PC1', 'PC2'])"
   ],
   "outputs": [],
   "metadata": {}
  },
  {
   "cell_type": "code",
   "execution_count": 55,
   "source": [
    "pca_df"
   ],
   "outputs": [
    {
     "output_type": "execute_result",
     "data": {
      "text/plain": [
       "           PC1        PC2\n",
       "0   -31.869945 -33.001252\n",
       "1     0.764494 -56.842901\n",
       "2   -57.408276 -13.124961\n",
       "3    -2.168543 -53.478590\n",
       "4   -32.174085 -30.388412\n",
       "..         ...        ...\n",
       "195  58.352515  31.017542\n",
       "196  19.908001  66.446108\n",
       "197  58.520804  38.346039\n",
       "198  20.979130  79.376405\n",
       "199  72.447693  41.811336\n",
       "\n",
       "[200 rows x 2 columns]"
      ],
      "text/html": [
       "<div>\n",
       "<style scoped>\n",
       "    .dataframe tbody tr th:only-of-type {\n",
       "        vertical-align: middle;\n",
       "    }\n",
       "\n",
       "    .dataframe tbody tr th {\n",
       "        vertical-align: top;\n",
       "    }\n",
       "\n",
       "    .dataframe thead th {\n",
       "        text-align: right;\n",
       "    }\n",
       "</style>\n",
       "<table border=\"1\" class=\"dataframe\">\n",
       "  <thead>\n",
       "    <tr style=\"text-align: right;\">\n",
       "      <th></th>\n",
       "      <th>PC1</th>\n",
       "      <th>PC2</th>\n",
       "    </tr>\n",
       "  </thead>\n",
       "  <tbody>\n",
       "    <tr>\n",
       "      <td>0</td>\n",
       "      <td>-31.869945</td>\n",
       "      <td>-33.001252</td>\n",
       "    </tr>\n",
       "    <tr>\n",
       "      <td>1</td>\n",
       "      <td>0.764494</td>\n",
       "      <td>-56.842901</td>\n",
       "    </tr>\n",
       "    <tr>\n",
       "      <td>2</td>\n",
       "      <td>-57.408276</td>\n",
       "      <td>-13.124961</td>\n",
       "    </tr>\n",
       "    <tr>\n",
       "      <td>3</td>\n",
       "      <td>-2.168543</td>\n",
       "      <td>-53.478590</td>\n",
       "    </tr>\n",
       "    <tr>\n",
       "      <td>4</td>\n",
       "      <td>-32.174085</td>\n",
       "      <td>-30.388412</td>\n",
       "    </tr>\n",
       "    <tr>\n",
       "      <td>...</td>\n",
       "      <td>...</td>\n",
       "      <td>...</td>\n",
       "    </tr>\n",
       "    <tr>\n",
       "      <td>195</td>\n",
       "      <td>58.352515</td>\n",
       "      <td>31.017542</td>\n",
       "    </tr>\n",
       "    <tr>\n",
       "      <td>196</td>\n",
       "      <td>19.908001</td>\n",
       "      <td>66.446108</td>\n",
       "    </tr>\n",
       "    <tr>\n",
       "      <td>197</td>\n",
       "      <td>58.520804</td>\n",
       "      <td>38.346039</td>\n",
       "    </tr>\n",
       "    <tr>\n",
       "      <td>198</td>\n",
       "      <td>20.979130</td>\n",
       "      <td>79.376405</td>\n",
       "    </tr>\n",
       "    <tr>\n",
       "      <td>199</td>\n",
       "      <td>72.447693</td>\n",
       "      <td>41.811336</td>\n",
       "    </tr>\n",
       "  </tbody>\n",
       "</table>\n",
       "<p>200 rows × 2 columns</p>\n",
       "</div>"
      ]
     },
     "metadata": {},
     "execution_count": 55
    }
   ],
   "metadata": {}
  },
  {
   "cell_type": "code",
   "execution_count": 56,
   "source": [
    "plt.figure(figsize = (20,10))\r\n",
    "sns.scatterplot(x = pca_df['PC1'], y = pca_df['PC2'], hue = model.labels_, palette='Set2', s = 100)"
   ],
   "outputs": [
    {
     "output_type": "execute_result",
     "data": {
      "text/plain": [
       "<AxesSubplot:xlabel='PC1', ylabel='PC2'>"
      ]
     },
     "metadata": {},
     "execution_count": 56
    },
    {
     "output_type": "display_data",
     "data": {
      "text/plain": [
       "<Figure size 1440x720 with 1 Axes>"
      ],
      "image/png": "[encoded data removed]"
     },
     "metadata": {
      "needs_background": "light"
     }
    }
   ],
   "metadata": {}
  }
 ],
 "metadata": {
  "orig_nbformat": 4,
  "language_info": {
   "name": "python"
  }
 },
 "nbformat": 4,
 "nbformat_minor": 2
}